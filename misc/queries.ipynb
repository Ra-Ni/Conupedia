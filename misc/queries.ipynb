{
 "cells": [
  {
   "cell_type": "code",
   "execution_count": 68,
   "outputs": [],
   "source": [
    "import urllib.parse\n",
    "import requests\n",
    "import json\n",
    "import re\n",
    "from numpy import dot, array\n",
    "from numpy.linalg import norm\n",
    "from scipy.spatial import distance"
   ],
   "metadata": {
    "collapsed": false,
    "pycharm": {
     "name": "#%%\n"
    }
   }
  },
  {
   "cell_type": "code",
   "execution_count": 27,
   "metadata": {
    "collapsed": true
   },
   "outputs": [],
   "source": [
    "REQUEST = {\n",
    "    'url': 'http://192.168.222.128:8890/sparql',\n",
    "    'headers' : {\n",
    "        'Host': '192.168.222.128:8890',\n",
    "        'Accept': 'text/html,application/xhtml+xml,application/xml;q=0.9,image/avif,image/webp,image/apng,*/*;q=0.8,application/signed-exchange;v=b3;q=0.9',\n",
    "        'Referer': 'http://192.168.222.128:8890/sparql',\n",
    "        'Accept-Encoding': 'gzip, deflate',\n",
    "        'Accept-Language': 'en-CA,en-GB;q=0.9,en-US;q=0.8,en;q=0.7',\n",
    "        'Connection': 'Closed'\n",
    "    },\n",
    "    'query': {\n",
    "        'default-graph-uri': '',\n",
    "        'query': '',\n",
    "        'format': 'application/sparql-results+json',\n",
    "        'timeout': '0',\n",
    "        'debug': 'on'\n",
    "    }\n",
    "}"
   ]
  },
  {
   "cell_type": "code",
   "execution_count": 28,
   "outputs": [],
   "source": [
    "def encode(request):\n",
    "    query_string = ''\n",
    "    for key, value in request['query'].items():\n",
    "        query_string = query_string + '&' + key + '=' + urllib.parse.quote_plus(value)\n",
    "    request['query'] = query_string[1:]"
   ],
   "metadata": {
    "collapsed": false,
    "pycharm": {
     "name": "#%%\n"
    }
   }
  },
  {
   "cell_type": "code",
   "execution_count": 40,
   "outputs": [],
   "source": [
    "def get_topics(remove_url = True):\n",
    "    request = REQUEST.copy()\n",
    "    request['query']['query'] = \"\"\"\n",
    "    select distinct ?t where {\n",
    "        ?s rdf:type schema:Course ;\n",
    "        owl:sameAs ?t .\n",
    "    }\n",
    "    \"\"\"\n",
    "    encode(request)\n",
    "    response = requests.get(request['url'] + '?' + request['query'], headers=request['headers'])\n",
    "    response = json.loads(response.text)\n",
    "    response = response['results']['bindings']\n",
    "    topics = set()\n",
    "    for dictionary in response:\n",
    "        topic = dictionary['t']['value']\n",
    "        if remove_url:\n",
    "            topic = re.sub('.*/', '', topic)\n",
    "            topic = re.sub('_', ' ', topic)\n",
    "        topics.add(topic)\n",
    "\n",
    "    return topics\n",
    "\n",
    "# print(get_topics())"
   ],
   "metadata": {
    "collapsed": false,
    "pycharm": {
     "name": "#%%\n"
    }
   }
  },
  {
   "cell_type": "code",
   "execution_count": 69,
   "outputs": [
    {
     "name": "stdout",
     "output_type": "stream",
     "text": [
      "0.05004931263238244\n"
     ]
    }
   ],
   "source": [
    "s1 = array([0.5,0,0.99])\n",
    "s3 = array([0.5,0,0.5])\n",
    "\n",
    "\n",
    "def cos_similarity(a, b):\n",
    "    return scipy.spatial.distance.cosine(a, b)\n",
    "\n",
    "print(cos_similarity(s1, s3))"
   ],
   "metadata": {
    "collapsed": false,
    "pycharm": {
     "name": "#%%\n"
    }
   }
  }
 ],
 "metadata": {
  "kernelspec": {
   "display_name": "Python 3",
   "language": "python",
   "name": "python3"
  },
  "language_info": {
   "codemirror_mode": {
    "name": "ipython",
    "version": 2
   },
   "file_extension": ".py",
   "mimetype": "text/x-python",
   "name": "python",
   "nbconvert_exporter": "python",
   "pygments_lexer": "ipython2",
   "version": "2.7.6"
  }
 },
 "nbformat": 4,
 "nbformat_minor": 0
}