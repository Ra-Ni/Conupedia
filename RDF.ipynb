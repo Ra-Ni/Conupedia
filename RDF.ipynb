{
 "cells": [
  {
   "cell_type": "code",
   "execution_count": 1,
   "metadata": {
    "pycharm": {
     "name": "#%%\n"
    }
   },
   "outputs": [
    {
     "name": "stdout",
     "output_type": "stream",
     "text": [
      "Requirement already satisfied: requests in d:\\onedrive - concordia university - canada\\computer science\\encs 691\\project\\conupedia\\venv\\lib\\site-packages (2.26.0)\n",
      "Requirement already satisfied: openpyxl in d:\\onedrive - concordia university - canada\\computer science\\encs 691\\project\\conupedia\\venv\\lib\\site-packages (3.0.9)\n",
      "Requirement already satisfied: rdflib in d:\\onedrive - concordia university - canada\\computer science\\encs 691\\project\\conupedia\\venv\\lib\\site-packages (6.0.2)\n",
      "Requirement already satisfied: certifi>=2017.4.17 in d:\\onedrive - concordia university - canada\\computer science\\encs 691\\project\\conupedia\\venv\\lib\\site-packages (from requests) (2021.10.8)\n",
      "Requirement already satisfied: idna<4,>=2.5 in d:\\onedrive - concordia university - canada\\computer science\\encs 691\\project\\conupedia\\venv\\lib\\site-packages (from requests) (3.3)\n",
      "Requirement already satisfied: urllib3<1.27,>=1.21.1 in d:\\onedrive - concordia university - canada\\computer science\\encs 691\\project\\conupedia\\venv\\lib\\site-packages (from requests) (1.26.7)\n",
      "Requirement already satisfied: charset-normalizer~=2.0.0 in d:\\onedrive - concordia university - canada\\computer science\\encs 691\\project\\conupedia\\venv\\lib\\site-packages (from requests) (2.0.7)\n",
      "Requirement already satisfied: et-xmlfile in d:\\onedrive - concordia university - canada\\computer science\\encs 691\\project\\conupedia\\venv\\lib\\site-packages (from openpyxl) (1.1.0)\n",
      "Requirement already satisfied: setuptools in d:\\onedrive - concordia university - canada\\computer science\\encs 691\\project\\conupedia\\venv\\lib\\site-packages (from rdflib) (57.0.0)\n",
      "Requirement already satisfied: pyparsing in d:\\onedrive - concordia university - canada\\computer science\\encs 691\\project\\conupedia\\venv\\lib\\site-packages (from rdflib) (2.4.7)\n",
      "Requirement already satisfied: isodate in d:\\onedrive - concordia university - canada\\computer science\\encs 691\\project\\conupedia\\venv\\lib\\site-packages (from rdflib) (0.6.0)\n",
      "Requirement already satisfied: six in d:\\onedrive - concordia university - canada\\computer science\\encs 691\\project\\conupedia\\venv\\lib\\site-packages (from isodate->rdflib) (1.16.0)\n"
     ]
    },
    {
     "name": "stderr",
     "output_type": "stream",
     "text": [
      "WARNING: You are using pip version 21.1.2; however, version 21.3.1 is available.\n",
      "You should consider upgrading via the 'D:\\OneDrive - Concordia University - Canada\\Computer Science\\ENCS 691\\project\\Conupedia\\venv\\Scripts\\python.exe -m pip install --upgrade pip' command.\n"
     ]
    }
   ],
   "source": [
    "!pip3 install requests openpyxl rdflib"
   ]
  },
  {
   "cell_type": "code",
   "execution_count": 2,
   "metadata": {
    "pycharm": {
     "name": "#%%\n"
    }
   },
   "outputs": [],
   "source": [
    "import json\n",
    "import rdflib\n",
    "import requests\n",
    "from requests.auth import HTTPBasicAuth\n",
    "import pandas as pd\n",
    "from IPython.core.display import display\n",
    "from rdflib.namespace import RDF, RDFS, XSD, OWL\n",
    "from rdflib import Namespace, URIRef, Graph, Literal\n",
    "\n"
   ]
  },
  {
   "cell_type": "markdown",
   "metadata": {},
   "source": [
    "# Courses"
   ]
  },
  {
   "cell_type": "code",
   "execution_count": 3,
   "outputs": [],
   "source": [
    "session = HTTPBasicAuth('295', '50cb40a1af0752086248f8b05b1f88b5')\n",
    "\n",
    "def get_information(url):\n",
    "    response = requests.get(url, auth=session)\n",
    "    response.encoding = response.apparent_encoding\n",
    "    response = pd.read_json(response.text)\n",
    "    response.set_index('ID', inplace=True)\n",
    "    response = response[~response.duplicated(keep='first')]\n",
    "    return response"
   ],
   "metadata": {
    "collapsed": false,
    "pycharm": {
     "name": "#%%\n"
    }
   }
  },
  {
   "cell_type": "markdown",
   "source": [
    "# Course Catalog\n",
    "\n",
    "We can obtain a list of courses in all catalogs by running the following code:"
   ],
   "metadata": {
    "collapsed": false,
    "pycharm": {
     "name": "#%% md\n"
    }
   }
  },
  {
   "cell_type": "code",
   "execution_count": 4,
   "metadata": {
    "pycharm": {
     "name": "#%%\n"
    }
   },
   "outputs": [],
   "source": [
    "url = 'https://opendata.concordia.ca/API/v1/course/catalog/filter/*/*/*'\n",
    "catalog = get_information(url)"
   ]
  },
  {
   "cell_type": "code",
   "execution_count": 5,
   "outputs": [
    {
     "data": {
      "text/plain": "                                           title subject catalog career  \\\nID                                                                        \n26           Financial and Managerial Accounting    ACCO     220   UGRD   \n27          Introduction to Financial Accounting    ACCO     230   UGRD   \n28         Introduction to Managerial Accounting    ACCO     240   UGRD   \n35                         Financial Reporting I    ACCO     310   UGRD   \n43                        Financial Reporting II    ACCO     320   UGRD   \n...                                          ...     ...     ...    ...   \n49226         Feminism, Comedy and Social Change    WSDB     310   UGRD   \n49227          Feminisms, Tourism and Mobilities    WSDB     410   UGRD   \n50131      Feminist Perspectives on Human Rights    WSDB     300   UGRD   \n50132               Canada, Colonization and Law    WSDB     301   UGRD   \n50133  Gender Justice in Canadian Law and Policy    WSDB     400   UGRD   \n\n       classUnit                                      prerequisites  \\\nID                                                                    \n26           3.0     Never Taken/Not Registered: ACCO213, ACCO21...   \n27           3.0     Never Taken/Not Registered: ACCO213, ACCO22...   \n28           3.0     Never Taken/Not Registered: ACCO218, ACCO22...   \n35           3.0  Course Corequisite: One of (COMM305, ACCO218, ...   \n43           3.0  Course Prerequisite: One of (ACCO310, ACCO323)...   \n...          ...                                                ...   \n49226        3.0                                                      \n49227        3.0  Prerequisite: 30 credits including WSDB290 and...   \n50131        3.0  Prerequisite: 15 credits including WSDB 290, 2...   \n50132        3.0                                                      \n50133        3.0  Prerequisite: 30 credits including WSDB290, WS...   \n\n       crosslisted  \nID                  \n26             NaN  \n27             NaN  \n28             NaN  \n35             NaN  \n43             NaN  \n...            ...  \n49226          NaN  \n49227          NaN  \n50131          NaN  \n50132          NaN  \n50133          NaN  \n\n[7292 rows x 7 columns]",
      "text/html": "<div>\n<style scoped>\n    .dataframe tbody tr th:only-of-type {\n        vertical-align: middle;\n    }\n\n    .dataframe tbody tr th {\n        vertical-align: top;\n    }\n\n    .dataframe thead th {\n        text-align: right;\n    }\n</style>\n<table border=\"1\" class=\"dataframe\">\n  <thead>\n    <tr style=\"text-align: right;\">\n      <th></th>\n      <th>title</th>\n      <th>subject</th>\n      <th>catalog</th>\n      <th>career</th>\n      <th>classUnit</th>\n      <th>prerequisites</th>\n      <th>crosslisted</th>\n    </tr>\n    <tr>\n      <th>ID</th>\n      <th></th>\n      <th></th>\n      <th></th>\n      <th></th>\n      <th></th>\n      <th></th>\n      <th></th>\n    </tr>\n  </thead>\n  <tbody>\n    <tr>\n      <th>26</th>\n      <td>Financial and Managerial Accounting</td>\n      <td>ACCO</td>\n      <td>220</td>\n      <td>UGRD</td>\n      <td>3.0</td>\n      <td>Never Taken/Not Registered: ACCO213, ACCO21...</td>\n      <td>NaN</td>\n    </tr>\n    <tr>\n      <th>27</th>\n      <td>Introduction to Financial Accounting</td>\n      <td>ACCO</td>\n      <td>230</td>\n      <td>UGRD</td>\n      <td>3.0</td>\n      <td>Never Taken/Not Registered: ACCO213, ACCO22...</td>\n      <td>NaN</td>\n    </tr>\n    <tr>\n      <th>28</th>\n      <td>Introduction to Managerial Accounting</td>\n      <td>ACCO</td>\n      <td>240</td>\n      <td>UGRD</td>\n      <td>3.0</td>\n      <td>Never Taken/Not Registered: ACCO218, ACCO22...</td>\n      <td>NaN</td>\n    </tr>\n    <tr>\n      <th>35</th>\n      <td>Financial Reporting I</td>\n      <td>ACCO</td>\n      <td>310</td>\n      <td>UGRD</td>\n      <td>3.0</td>\n      <td>Course Corequisite: One of (COMM305, ACCO218, ...</td>\n      <td>NaN</td>\n    </tr>\n    <tr>\n      <th>43</th>\n      <td>Financial Reporting II</td>\n      <td>ACCO</td>\n      <td>320</td>\n      <td>UGRD</td>\n      <td>3.0</td>\n      <td>Course Prerequisite: One of (ACCO310, ACCO323)...</td>\n      <td>NaN</td>\n    </tr>\n    <tr>\n      <th>...</th>\n      <td>...</td>\n      <td>...</td>\n      <td>...</td>\n      <td>...</td>\n      <td>...</td>\n      <td>...</td>\n      <td>...</td>\n    </tr>\n    <tr>\n      <th>49226</th>\n      <td>Feminism, Comedy and Social Change</td>\n      <td>WSDB</td>\n      <td>310</td>\n      <td>UGRD</td>\n      <td>3.0</td>\n      <td></td>\n      <td>NaN</td>\n    </tr>\n    <tr>\n      <th>49227</th>\n      <td>Feminisms, Tourism and Mobilities</td>\n      <td>WSDB</td>\n      <td>410</td>\n      <td>UGRD</td>\n      <td>3.0</td>\n      <td>Prerequisite: 30 credits including WSDB290 and...</td>\n      <td>NaN</td>\n    </tr>\n    <tr>\n      <th>50131</th>\n      <td>Feminist Perspectives on Human Rights</td>\n      <td>WSDB</td>\n      <td>300</td>\n      <td>UGRD</td>\n      <td>3.0</td>\n      <td>Prerequisite: 15 credits including WSDB 290, 2...</td>\n      <td>NaN</td>\n    </tr>\n    <tr>\n      <th>50132</th>\n      <td>Canada, Colonization and Law</td>\n      <td>WSDB</td>\n      <td>301</td>\n      <td>UGRD</td>\n      <td>3.0</td>\n      <td></td>\n      <td>NaN</td>\n    </tr>\n    <tr>\n      <th>50133</th>\n      <td>Gender Justice in Canadian Law and Policy</td>\n      <td>WSDB</td>\n      <td>400</td>\n      <td>UGRD</td>\n      <td>3.0</td>\n      <td>Prerequisite: 30 credits including WSDB290, WS...</td>\n      <td>NaN</td>\n    </tr>\n  </tbody>\n</table>\n<p>7292 rows × 7 columns</p>\n</div>"
     },
     "metadata": {},
     "output_type": "display_data"
    }
   ],
   "source": [
    "display(catalog)\n",
    "# catalog.to_excel('catalog.xlsx')"
   ],
   "metadata": {
    "collapsed": false,
    "pycharm": {
     "name": "#%%\n"
    }
   }
  },
  {
   "cell_type": "markdown",
   "source": [
    "## Course Descriptions\n",
    "\n",
    "Course descriptions can be acquired by running the following code:"
   ],
   "metadata": {
    "collapsed": false
   }
  },
  {
   "cell_type": "code",
   "execution_count": 6,
   "metadata": {},
   "outputs": [],
   "source": [
    "url = 'https://opendata.concordia.ca/API/v1/course/description/filter/*'\n",
    "descriptions = get_information(url)\n",
    "# display(descriptions)"
   ]
  },
  {
   "cell_type": "markdown",
   "source": [
    "Merge the descriptions and courses together"
   ],
   "metadata": {
    "collapsed": false,
    "pycharm": {
     "name": "#%% md\n"
    }
   }
  },
  {
   "cell_type": "code",
   "execution_count": 7,
   "outputs": [],
   "source": [
    "df = catalog.join(descriptions, on='ID')\n",
    "# df.to_excel('hello.xlsx')"
   ],
   "metadata": {
    "collapsed": false,
    "pycharm": {
     "name": "#%%\n"
    }
   }
  },
  {
   "cell_type": "markdown",
   "source": [
    "# RDF\n",
    "\n",
    "We define the following prefixes:"
   ],
   "metadata": {
    "collapsed": false,
    "pycharm": {
     "name": "#%% md\n"
    }
   }
  },
  {
   "cell_type": "code",
   "execution_count": 8,
   "outputs": [],
   "source": [
    "SS = Namespace('http://www.securesea.ca/')\n",
    "DBR = Namespace('http://dbpedia.org/resource/')\n",
    "SCHEMA = Namespace('http://schema.org/version/6.0/#')"
   ],
   "metadata": {
    "collapsed": false,
    "pycharm": {
     "name": "#%%\n"
    }
   }
  },
  {
   "cell_type": "code",
   "source": [
    "def to_rdf(series):\n",
    "    g = Graph()\n",
    "    g.bind('rdf', RDF)\n",
    "    g.bind('schema', SCHEMA)\n",
    "    g.bind('dbr', DBR)\n",
    "    course = URIRef(f'http://www.securesea.ca/Courses/{str(series.name).zfill(5)}')\n",
    "    g.add((course, RDF.type, SCHEMA.Course))\n",
    "    g.add((course, SCHEMA.courseCode, Literal(series['subject'] + series['catalog'])))\n",
    "    g.add((course, SCHEMA.name, Literal(series['title'])))\n",
    "    g.add((course, SCHEMA.numberOfCredits, Literal(series['classUnit'], datatype=XSD.float)))\n",
    "    g.add((course, SCHEMA.provider, DBR.Concordia_University))\n",
    "    g.add((course, SCHEMA.coursePrerequisites, Literal(series['prerequisites'])))\n",
    "    g.add((course, SCHEMA.description, Literal(series['description'])))\n",
    "\n",
    "    return g\n",
    "\n",
    "def to_graph(frame):\n",
    "    dff = frame.apply(to_rdf, axis=1)\n",
    "    g = Graph()\n",
    "    g.bind('rdf', RDF)\n",
    "    g.bind('schema', SCHEMA)\n",
    "    g.bind('dbr', DBR)\n",
    "\n",
    "    for _, value in dff.items():\n",
    "        g += value\n",
    "    g.serialize(destination=\"tbl.ttl\")\n",
    "\n",
    "\n",
    "to_graph(df)"
   ],
   "metadata": {
    "collapsed": false,
    "pycharm": {
     "name": "#%%\n"
    }
   },
   "execution_count": 27,
   "outputs": []
  }
 ],
 "metadata": {
  "colab": {
   "collapsed_sections": [],
   "name": "RDF.ipynb",
   "provenance": []
  },
  "kernelspec": {
   "display_name": "Python 3 (ipykernel)",
   "language": "python",
   "name": "python3"
  },
  "language_info": {
   "codemirror_mode": {
    "name": "ipython",
    "version": 3
   },
   "file_extension": ".py",
   "mimetype": "text/x-python",
   "name": "python",
   "nbconvert_exporter": "python",
   "pygments_lexer": "ipython3",
   "version": "3.9.5"
  }
 },
 "nbformat": 4,
 "nbformat_minor": 1
}